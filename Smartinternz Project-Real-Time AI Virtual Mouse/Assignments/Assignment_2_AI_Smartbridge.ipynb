{
  "nbformat": 4,
  "nbformat_minor": 0,
  "metadata": {
    "colab": {
      "provenance": []
    },
    "kernelspec": {
      "name": "python3",
      "display_name": "Python 3"
    },
    "language_info": {
      "name": "python"
    }
  },
  "cells": [
    {
      "cell_type": "code",
      "execution_count": 1,
      "metadata": {
        "colab": {
          "base_uri": "https://localhost:8080/"
        },
        "id": "Iu89Q-FGQUGN",
        "outputId": "96e6b9ad-517a-469c-be81-78ef896ebaa6"
      },
      "outputs": [
        {
          "output_type": "stream",
          "name": "stdout",
          "text": [
            "Epoch 1/10\n",
            "5/5 [==============================] - 3s 113ms/step - loss: 0.3362 - accuracy: 0.1063 - val_loss: -0.3225 - val_accuracy: 0.1500\n",
            "Epoch 2/10\n",
            "5/5 [==============================] - 0s 19ms/step - loss: -0.5148 - accuracy: 0.1063 - val_loss: -1.5749 - val_accuracy: 0.1500\n",
            "Epoch 3/10\n",
            "5/5 [==============================] - 0s 17ms/step - loss: -1.7058 - accuracy: 0.1063 - val_loss: -3.7123 - val_accuracy: 0.1500\n",
            "Epoch 4/10\n",
            "5/5 [==============================] - 0s 17ms/step - loss: -3.9018 - accuracy: 0.1063 - val_loss: -7.4914 - val_accuracy: 0.1500\n",
            "Epoch 5/10\n",
            "5/5 [==============================] - 0s 21ms/step - loss: -7.6299 - accuracy: 0.1063 - val_loss: -14.3801 - val_accuracy: 0.1500\n",
            "Epoch 6/10\n",
            "5/5 [==============================] - 0s 21ms/step - loss: -15.1841 - accuracy: 0.1063 - val_loss: -26.3045 - val_accuracy: 0.1500\n",
            "Epoch 7/10\n",
            "5/5 [==============================] - 0s 18ms/step - loss: -28.8977 - accuracy: 0.1063 - val_loss: -46.6204 - val_accuracy: 0.1500\n",
            "Epoch 8/10\n",
            "5/5 [==============================] - 0s 13ms/step - loss: -48.4156 - accuracy: 0.1125 - val_loss: -81.9786 - val_accuracy: 0.1500\n",
            "Epoch 9/10\n",
            "5/5 [==============================] - 0s 20ms/step - loss: -86.7312 - accuracy: 0.1187 - val_loss: -139.2078 - val_accuracy: 0.1500\n",
            "Epoch 10/10\n",
            "5/5 [==============================] - 0s 17ms/step - loss: -141.8945 - accuracy: 0.1562 - val_loss: -230.2008 - val_accuracy: 0.1500\n"
          ]
        },
        {
          "output_type": "execute_result",
          "data": {
            "text/plain": [
              "<keras.callbacks.History at 0x7fb015d9e170>"
            ]
          },
          "metadata": {},
          "execution_count": 1
        }
      ],
      "source": [
        "#JOSH GEORGE JACOB -20BEC0304 \n",
        "\n",
        "import pandas as pd\n",
        "import numpy as np\n",
        "from sklearn.model_selection import train_test_split\n",
        "from sklearn.preprocessing import LabelEncoder, StandardScaler\n",
        "data = pd.read_csv(r'/content/drug200.csv')\n",
        "# Encode categorical variables\n",
        "label_encoder = LabelEncoder()\n",
        "data['Sex'] = label_encoder.fit_transform(data['Sex'])\n",
        "data['BP'] = label_encoder.fit_transform(data['BP'])\n",
        "data['Cholesterol'] = label_encoder.fit_transform(data['Cholesterol'])\n",
        "data['Drug'] = label_encoder.fit_transform(data['Drug'])\n",
        "# Split the data into features and labels\n",
        "X = data.iloc[:, :-1].values\n",
        "y = data.iloc[:, -1].values\n",
        "# Perform feature scaling\n",
        "scaler = StandardScaler()\n",
        "X = scaler.fit_transform(X)\n",
        "# Split the data into training and testing sets\n",
        "X_train, X_test, y_train, y_test = train_test_split(X, y, test_size=0.2, random_state=42)\n",
        "import tensorflow as tf\n",
        "from tensorflow.keras.models import Sequential\n",
        "from tensorflow.keras.layers import Dense\n",
        "# Initialize the model\n",
        "model = Sequential()\n",
        "# Add the input layer\n",
        "model.add(Dense(units=64, activation='relu', input_dim=X_train.shape[1]))\n",
        "# Add hidden layers\n",
        "model.add(Dense(units=128, activation='relu'))\n",
        "model.add(Dense(units=128, activation='relu'))\n",
        "model.add(Dense(units=128, activation='relu'))\n",
        "# Add the output layer\n",
        "model.add(Dense(units=1, activation='sigmoid'))\n",
        "# Compile the model\n",
        "model.compile(optimizer='adam', loss='binary_crossentropy', metrics=['accuracy'])\n",
        "# Train the model\n",
        "model.fit(X_train, y_train, batch_size=32, epochs=10, validation_data=(X_test, y_test))\n"
      ]
    },
    {
      "cell_type": "code",
      "source": [
        "# Generate random input data\n",
        "random_data = np.random.rand(1, X_train.shape[1])\n",
        "# Scale the random data using the same scaler used for training data\n",
        "scaled_data = scaler.transform(random_data)\n",
        "# Get the predicted output\n",
        "prediction = model.predict(scaled_data)\n",
        "# Decode the predicted output\n",
        "predicted_class = label_encoder.inverse_transform([np.argmax(prediction)])\n",
        "# Print the predicted class\n",
        "print('Predicted Class:', predicted_class)"
      ],
      "metadata": {
        "colab": {
          "base_uri": "https://localhost:8080/"
        },
        "id": "W3Da05jiQk1e",
        "outputId": "4d2cce0c-5947-4cac-e07f-8e7e5e02b48a"
      },
      "execution_count": 2,
      "outputs": [
        {
          "output_type": "stream",
          "name": "stdout",
          "text": [
            "1/1 [==============================] - 0s 177ms/step\n",
            "Predicted Class: ['DrugY']\n"
          ]
        }
      ]
    }
  ]
}